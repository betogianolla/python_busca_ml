{
  "nbformat": 4,
  "nbformat_minor": 0,
  "metadata": {
    "colab": {
      "provenance": []
    },
    "kernelspec": {
      "name": "python3",
      "display_name": "Python 3"
    },
    "language_info": {
      "name": "python"
    }
  },
  "cells": [
    {
      "cell_type": "code",
      "source": [
        "#importando bibliotecas\n",
        "import requests\n",
        "import pandas as pd\n",
        "from bs4 import BeautifulSoup"
      ],
      "metadata": {
        "id": "dD58fe0MHLiE"
      },
      "execution_count": null,
      "outputs": []
    },
    {
      "cell_type": "code",
      "source": [
        "entrada = input(\"Digite o que deseja buscar: \")\n",
        "pesquisa = entrada.strip().replace(\" \", \"-\")\n",
        "\n",
        "if pesquisa.startswith(\"-\"):  # verificando se a string começa com hífen\n",
        "    pesquisa = pesquisa[1:]  # remover o primeiro caractere hífen\n",
        "\n",
        "if pesquisa.endswith(\"-\"):  # verificando se a string termina com hífen\n",
        "    pesquisa = pesquisa[:-1]  # remover o último caractere hífen"
      ],
      "metadata": {
        "colab": {
          "base_uri": "https://localhost:8080/"
        },
        "id": "1ST25E3dHsmu",
        "outputId": "eecb38e8-838d-4f7d-b73d-a04bb39f96fc"
      },
      "execution_count": null,
      "outputs": [
        {
          "name": "stdout",
          "output_type": "stream",
          "text": [
            "Digite o que deseja buscar: Mi band 5\n"
          ]
        }
      ]
    },
    {
      "cell_type": "code",
      "source": [
        "#criando variável para o link\n",
        "link = \"https://lista.mercadolivre.com.br/\" + pesquisa\n",
        "print(link)"
      ],
      "metadata": {
        "colab": {
          "base_uri": "https://localhost:8080/"
        },
        "id": "0eKjgfALJHjc",
        "outputId": "7e085eb4-c2d5-4071-df8e-338da516f61b"
      },
      "execution_count": null,
      "outputs": [
        {
          "output_type": "stream",
          "name": "stdout",
          "text": [
            "https://lista.mercadolivre.com.br/Mi-band-5\n"
          ]
        }
      ]
    },
    {
      "cell_type": "code",
      "source": [
        "#testando a comunicação com o site\n",
        "comunicacao = requests.get(link)\n",
        "#print(comunicacao)"
      ],
      "metadata": {
        "id": "38LBmnXIJaxH"
      },
      "execution_count": null,
      "outputs": []
    },
    {
      "cell_type": "code",
      "source": [
        "#pegando informações no site\n",
        "site = BeautifulSoup(comunicacao.text, \"html.parser\")"
      ],
      "metadata": {
        "id": "wYetDgcfJl3u"
      },
      "execution_count": null,
      "outputs": []
    },
    {
      "cell_type": "code",
      "source": [
        "#buscando os dados específicos\n",
        "dados = site.find_all(\"div\", attrs = {\"class\": \"ui-search-result__content-wrapper shops__result-content-wrapper\"})"
      ],
      "metadata": {
        "id": "WjuNbf3yJme2"
      },
      "execution_count": null,
      "outputs": []
    },
    {
      "cell_type": "code",
      "source": [
        "produtos = []\n",
        "precos = []\n",
        "links = []\n",
        "\n",
        "for x in dados:\n",
        "  nome_produto = x.find_all(\"h2\")[0].text\n",
        "  produtos.append(nome_produto)\n",
        "  preco_produto = x.find_all(\"span\", class_ = \"price-tag-amount\")[0].text\n",
        "  preco_produto2 = float(preco_produto.replace(\"R$\",\"\").replace(\".\",\"\").replace(\",\",\".\"))\n",
        "  precos.append(preco_produto2)\n",
        "  link_produto = x.find_all(\"a\", class_ = \"ui-search-link\")[0]['href']\n",
        "  links.append(link_produto)"
      ],
      "metadata": {
        "id": "4rDXQAqfJp6o"
      },
      "execution_count": null,
      "outputs": []
    },
    {
      "cell_type": "code",
      "source": [
        "#transformando em tabela\n",
        "tabela = {\n",
        "    \"Nome\" : produtos,\n",
        "    \"Preço\" : precos,\n",
        "    \"Link\" : links\n",
        "}"
      ],
      "metadata": {
        "id": "VuOaV1mJJ1MR"
      },
      "execution_count": null,
      "outputs": []
    },
    {
      "cell_type": "code",
      "source": [
        "tabela = pd.DataFrame(tabela)\n",
        "tabela_ordenada = tabela.sort_values(by=\"Preço\")\n",
        "\n",
        "for index, row in tabela_ordenada.iterrows():\n",
        "    print(row['Nome'], \"/\", row['Preço'])\n",
        "    print(row['Link'])\n",
        "    print()"
      ],
      "metadata": {
        "colab": {
          "base_uri": "https://localhost:8080/"
        },
        "id": "1wjTcHweT8Z0",
        "outputId": "21eadd4d-5655-4fc9-8e57-7a6d527e19ad"
      },
      "execution_count": null,
      "outputs": [
        {
          "output_type": "stream",
          "name": "stdout",
          "text": [
            "Pulseira Preta Silicone Para Mi Band 5 / 11.35\n",
            "https://produto.mercadolivre.com.br/MLB-2119469127-pulseira-preta-silicone-para-mi-band-5-_JM#position=15&search_layout=stack&type=item&tracking_id=eaa1f449-fdad-49a7-8ff9-739d81f27a6f\n",
            "\n",
            "Mi Band 5 Pulseira Colorida Silicone Reposição Lançamento / 11.99\n",
            "https://produto.mercadolivre.com.br/MLB-1621830474-mi-band-5-pulseira-colorida-silicone-reposico-lancamento-_JM#position=33&search_layout=stack&type=item&tracking_id=eaa1f449-fdad-49a7-8ff9-739d81f27a6f\n",
            "\n",
            "Pulseira Colorida De Silicone Mi Band 5 / 12.0\n",
            "https://produto.mercadolivre.com.br/MLB-2026140026-pulseira-colorida-de-silicone-mi-band-5-_JM#position=51&search_layout=stack&type=item&tracking_id=eaa1f449-fdad-49a7-8ff9-739d81f27a6f\n",
            "\n",
            "Pulseira Para Mi Band 5 Silicone Premium Novas Cores / 12.19\n",
            "https://produto.mercadolivre.com.br/MLB-1879275051-pulseira-para-mi-band-5-silicone-premium-novas-cores-_JM#position=36&search_layout=stack&type=item&tracking_id=eaa1f449-fdad-49a7-8ff9-739d81f27a6f\n",
            "\n",
            "Pulseira Para Xiaomi Mi Band 5 Silicone Premium Novas Cores / 12.51\n",
            "https://produto.mercadolivre.com.br/MLB-1879274343-pulseira-para-xiaomi-mi-band-5-silicone-premium-novas-cores-_JM#position=37&search_layout=stack&type=item&tracking_id=eaa1f449-fdad-49a7-8ff9-739d81f27a6f\n",
            "\n",
            "Pulseira Colorida Silicone Borracha Para Mi Band 5 / 13.49\n",
            "https://produto.mercadolivre.com.br/MLB-1881196371-pulseira-colorida-silicone-borracha-para-mi-band-5-_JM#position=40&search_layout=stack&type=item&tracking_id=eaa1f449-fdad-49a7-8ff9-739d81f27a6f\n",
            "\n",
            "Kit 5 Pulseira Colorida Mi Band 4 /mi Band 3  Pronta Entrega / 17.99\n",
            "https://produto.mercadolivre.com.br/MLB-2720828729-kit-5-pulseira-colorida-mi-band-4-mi-band-3-pronta-entrega-_JM#position=34&search_layout=stack&type=item&tracking_id=eaa1f449-fdad-49a7-8ff9-739d81f27a6f\n",
            "\n",
            "Pulseira De Silicone Para Mi Band 3 E 4 - Kit Com 5 / 19.99\n",
            "https://produto.mercadolivre.com.br/MLB-2719445883-pulseira-de-silicone-para-mi-band-3-e-4-kit-com-5-_JM?searchVariation=174822070973#searchVariation=174822070973&position=53&search_layout=stack&type=item&tracking_id=eaa1f449-fdad-49a7-8ff9-739d81f27a6f\n",
            "\n",
            "Kit 5 Pulseira Colorida Mi Band 5 /mi Band 6  Pronta Entrega / 19.99\n",
            "https://produto.mercadolivre.com.br/MLB-2901805036-kit-5-pulseira-colorida-mi-band-5-mi-band-6-pronta-entrega-_JM?searchVariation=175619816617#searchVariation=175619816617&position=35&search_layout=stack&type=item&tracking_id=eaa1f449-fdad-49a7-8ff9-739d81f27a6f\n",
            "\n",
            "Pulseira De Reposição P/ Mi Band 5 E Smartband M5 Silicone / 24.88\n",
            "https://produto.mercadolivre.com.br/MLB-1703785087-pulseira-de-reposico-p-mi-band-5-e-smartband-m5-silicone-_JM#position=49&search_layout=stack&type=item&tracking_id=eaa1f449-fdad-49a7-8ff9-739d81f27a6f\n",
            "\n",
            "Pulseira De Atividade Para Xiaomi Mi Band 5 Premium Original / 25.9\n",
            "https://click1.mercadolivre.com.br/mclics/clicks/external/MLB/count?a=rPLA24nr1rDBsPFi2MD%2F8xh%2BCmOnInuVDqt0SQNir5ABDrKhT4tO6tb8XZK7aus4elhAVFddCFnC7JmIfCiuI8SkT1qpabCBI0SDjHEkK3U%2FZ2EtFycfJZX7GjBRHLQKCKX9njgN%2B%2FzeYoPA2zQaDXH4AHPUopCkf0kNIXDEyDR58MlwwO2ajJntxRnjy%2F%2BhhpybuAvvzCMJ99RUIvIcQJRDTIrvwBhK3Sls6ZkzJPiDtw1IwjLji32wyN%2BCvp%2FT%2BkxmM1nhz1J3A5YB%2F95hffsOAtSLzEUC9hHFXba4%2BIgyY1twUeHLlqGEkb6iFLg0kdUv83P6ClieSX39EcEJVH69ins85Ucv6SVt6UDxOA3PRkKtChdSW2FWI5TaWWPYR018f4%2F7X8oIAxsrowYpt%2FNCmZQFrJ6RMYfyx1%2FoirCUA%2B3jRlV6n0BZ2kviKsFAk526Ud%2FUsydz32Nb%2FRHaw4BDa1eiwFpwKJzPQV9eQDuoqGbvLFZ%2FFA2gxUSqr%2FJJ%2BKHDx1zkVKaDwbFKEkRHk9wbNi%2B6R%2BV7OFES7cGTGE71VOLY%2Fli0993W3aeSSaPu71FYfyQQOXyGkQob2jND8STG9mC5%2BvD%2BQmVU5Z2yRZNu9wy2s4AhphhUtmtooH%2Fg0cQAB5S5lMigIiZBcFheA7yS7PnIc6wdWRhJ7bkj5%2BecLee8rxKtrJt3dxpJXrmT6YAUXyMiW%2BFfMxtsZBIT9UEvqzeH&rb=x\n",
            "\n",
            "Pulseira De Silicone Para Mi Band 3 E 4 - Kit Com 5 / 25.99\n",
            "https://produto.mercadolivre.com.br/MLB-1468864984-pulseira-de-silicone-para-mi-band-3-e-4-kit-com-5-_JM?searchVariation=174885342870#searchVariation=174885342870&position=27&search_layout=stack&type=item&tracking_id=eaa1f449-fdad-49a7-8ff9-739d81f27a6f\n",
            "\n",
            "Pulseira De Silicone Para Mi Band 3 E 4 - Kit Com 5 / 25.99\n",
            "https://produto.mercadolivre.com.br/MLB-1765565840-pulseira-de-silicone-para-mi-band-3-e-4-kit-com-5-_JM#position=28&search_layout=stack&type=item&tracking_id=eaa1f449-fdad-49a7-8ff9-739d81f27a6f\n",
            "\n",
            "Pulseira De Silicone Para Mi Band 3 E 4 - Kit Com 5 / 27.99\n",
            "https://produto.mercadolivre.com.br/MLB-1879279109-pulseira-de-silicone-para-mi-band-3-e-4-kit-com-5-_JM?searchVariation=84169281220#searchVariation=84169281220&position=45&search_layout=stack&type=item&tracking_id=eaa1f449-fdad-49a7-8ff9-739d81f27a6f\n",
            "\n",
            "Kit 5 Pulseiras Silicone Mi Band 4/mi Band 3 Pronta Entrega / 27.99\n",
            "https://produto.mercadolivre.com.br/MLB-1812218800-kit-5-pulseiras-silicone-mi-band-4mi-band-3-pronta-entrega-_JM#position=46&search_layout=stack&type=item&tracking_id=eaa1f449-fdad-49a7-8ff9-739d81f27a6f\n",
            "\n",
            "Kit 5 Pulseira Colorida Mi Band 4/ Mi Band 3 Pronta Entrega / 28.28\n",
            "https://produto.mercadolivre.com.br/MLB-1812213141-kit-5-pulseira-colorida-mi-band-4-mi-band-3-pronta-entrega-_JM?searchVariation=77594427602#searchVariation=77594427602&position=41&search_layout=stack&type=item&tracking_id=eaa1f449-fdad-49a7-8ff9-739d81f27a6f\n",
            "\n",
            "Kit 5 Pulseira Miband 5 Original Premium Diversas Cores M5 / 28.74\n",
            "https://produto.mercadolivre.com.br/MLB-2172278063-kit-5-pulseira-miband-5-original-premium-diversas-cores-m5-_JM#position=55&search_layout=stack&type=item&tracking_id=eaa1f449-fdad-49a7-8ff9-739d81f27a6f\n",
            "\n",
            "Kit 5 Com Pulseira Colorida Extra Mi Band 6 Pronta Entrega / 28.76\n",
            "https://produto.mercadolivre.com.br/MLB-2092511821-kit-5-com-pulseira-colorida-extra-mi-band-6-pronta-entrega-_JM#position=38&search_layout=stack&type=item&tracking_id=eaa1f449-fdad-49a7-8ff9-739d81f27a6f\n",
            "\n",
            "Relógio Digital Led Infantil Pokémon - 5 Modelos Diferentes / 29.0\n",
            "https://produto.mercadolivre.com.br/MLB-3310457916-relogio-digital-led-infantil-pokemon-5-modelos-diferentes-_JM#position=43&search_layout=stack&type=item&tracking_id=eaa1f449-fdad-49a7-8ff9-739d81f27a6f\n",
            "\n",
            "Kit 5 Pulseira Colorida Mi Band 4 /mi Band 3  Pronta Entrega / 31.45\n",
            "https://produto.mercadolivre.com.br/MLB-1812210490-kit-5-pulseira-colorida-mi-band-4-mi-band-3-pronta-entrega-_JM#position=31&search_layout=stack&type=item&tracking_id=eaa1f449-fdad-49a7-8ff9-739d81f27a6f\n",
            "\n",
            "Relógio Inteligente M5 Pulseira Monitor De Pressão Sanguínea / 32.0\n",
            "https://www.mercadolivre.com.br/relogio-inteligente-m5-pulseira-monitor-de-presso-sanguinea/p/MLB21885535?pdp_filters=category:MLB135384#searchVariation=MLB21885535&position=2&search_layout=stack&type=product&tracking_id=eaa1f449-fdad-49a7-8ff9-739d81f27a6f\n",
            "\n",
            "Kit 5 Pulseiras Colorida Mi Band 3 E 4 / 33.79\n",
            "https://produto.mercadolivre.com.br/MLB-1885000689-kit-5-pulseiras-colorida-mi-band-3-e-4-_JM#position=47&search_layout=stack&type=item&tracking_id=eaa1f449-fdad-49a7-8ff9-739d81f27a6f\n",
            "\n",
            "Kit 5 Pulseiras Colorida Mi Band 3 E 4 / 33.79\n",
            "https://produto.mercadolivre.com.br/MLB-1885004014-kit-5-pulseiras-colorida-mi-band-3-e-4-_JM#position=30&search_layout=stack&type=item&tracking_id=eaa1f449-fdad-49a7-8ff9-739d81f27a6f\n",
            "\n",
            "Kit De 5 Pulseiras Silicone Para Mi Band 4 Miband4 Diversas / 37.96\n",
            "https://produto.mercadolivre.com.br/MLB-2111538377-kit-de-5-pulseiras-silicone-para-mi-band-4-miband4-diversas-_JM#position=26&search_layout=stack&type=item&tracking_id=eaa1f449-fdad-49a7-8ff9-739d81f27a6f\n",
            "\n",
            "Kit Com 5 Pulseiras Para Mi Band 4 Miband4 M4 100% Silicone  / 38.91\n",
            "https://produto.mercadolivre.com.br/MLB-2111537968-kit-com-5-pulseiras-para-mi-band-4-miband4-m4-100-silicone-_JM#position=42&search_layout=stack&type=item&tracking_id=eaa1f449-fdad-49a7-8ff9-739d81f27a6f\n",
            "\n",
            "Kit De 5 Pulseiras Para Xiaomi Relógio Mi Band 4 Smartwatch / 39.45\n",
            "https://produto.mercadolivre.com.br/MLB-1776928539-kit-de-5-pulseiras-para-xiaomi-relogio-mi-band-4-smartwatch-_JM#position=32&search_layout=stack&type=item&tracking_id=eaa1f449-fdad-49a7-8ff9-739d81f27a6f\n",
            "\n",
            "Kit Com 5 Pulseiras Para Mi Band 5 E Amazfit Band 5 Silicone / 39.5\n",
            "https://produto.mercadolivre.com.br/MLB-1799046187-kit-com-5-pulseiras-para-mi-band-5-e-amazfit-band-5-silicone-_JM#position=11&search_layout=stack&type=item&tracking_id=eaa1f449-fdad-49a7-8ff9-739d81f27a6f\n",
            "\n",
            "Pulseira Para Relógio Xiaomi Miband 4 Kit 5un Pronta Entrega / 39.69\n",
            "https://produto.mercadolivre.com.br/MLB-1777008587-pulseira-para-relogio-xiaomi-miband-4-kit-5un-pronta-entrega-_JM#position=50&search_layout=stack&type=item&tracking_id=eaa1f449-fdad-49a7-8ff9-739d81f27a6f\n",
            "\n",
            "Kit De Pulseiras Cores Foscas Para Mi Band 4 Combo Com 5pcs. / 39.79\n",
            "https://produto.mercadolivre.com.br/MLB-1776590789-kit-de-pulseiras-cores-foscas-para-mi-band-4-combo-com-5pcs-_JM#position=22&search_layout=stack&type=item&tracking_id=eaa1f449-fdad-49a7-8ff9-739d81f27a6f\n",
            "\n",
            "Kit De 5 Pulseiras Silicone Mi Band 4 Miband4 Foscas Premium / 39.89\n",
            "https://produto.mercadolivre.com.br/MLB-2112307311-kit-de-5-pulseiras-silicone-mi-band-4-miband4-foscas-premium-_JM#position=44&search_layout=stack&type=item&tracking_id=eaa1f449-fdad-49a7-8ff9-739d81f27a6f\n",
            "\n",
            "Kit De 5 Pulseiras Silicone Para Mi Band 4 Diversas Cores / 39.89\n",
            "https://produto.mercadolivre.com.br/MLB-1776657239-kit-de-5-pulseiras-silicone-para-mi-band-4-diversas-cores-_JM#position=17&search_layout=stack&type=item&tracking_id=eaa1f449-fdad-49a7-8ff9-739d81f27a6f\n",
            "\n",
            "Pulseira Metal Mi Band 5 Aço Inoxidável Com Ajuste Magnético / 47.75\n",
            "https://produto.mercadolivre.com.br/MLB-1833657214-pulseira-metal-mi-band-5-aco-inoxidavel-com-ajuste-magnetico-_JM#position=25&search_layout=stack&type=item&tracking_id=eaa1f449-fdad-49a7-8ff9-739d81f27a6f\n",
            "\n",
            "Kit 5 Pulseiras Para Relógio Xiaomi Mi Band 7 Miband 7 Mi7 / 49.49\n",
            "https://produto.mercadolivre.com.br/MLB-2880103931-kit-5-pulseiras-para-relogio-xiaomi-mi-band-7-miband-7-mi7-_JM#position=21&search_layout=stack&type=item&tracking_id=eaa1f449-fdad-49a7-8ff9-739d81f27a6f\n",
            "\n",
            "Pulseira Mi Band 5 Metal Inoxidável C/ Ajuste Magnético  / 49.95\n",
            "https://produto.mercadolivre.com.br/MLB-1833681203-pulseira-mi-band-5-metal-inoxidavel-c-ajuste-magnetico-_JM#position=12&search_layout=stack&type=item&tracking_id=eaa1f449-fdad-49a7-8ff9-739d81f27a6f\n",
            "\n",
            "Pulseira Mi Band 5 Metal Inoxidável C/ Ajuste Magnético  / 49.95\n",
            "https://click1.mercadolivre.com.br/mclics/clicks/external/MLB/count?a=Zs5frojnRJYKljQ7S7uPcFY8c3x%2F0MGQMpTwq19Gx3BNA6dEqsjdn4L1rXwW8E94jGND%2FKJyfcOr2mBfiOZKjgr7QkrGlW5jiHpJzLHo0z6sglJiuQIN3NnmCPY4mbffJDypJKZLus9jR%2BXzPcg9SNcOCuATfH7yn9cdYQurogWxIE6JhtCGUNtgTgIkOQiNY4%2BiUcvpR3f2iHlklL2WWY6XMtSeKMTzSCDowrvTVzDkigSejYyoNYxnCuMuCu9i9fS5sndSiIm6hoqnhnpx3w0%2BU6CaIOpA6%2BqzHkxiX3YCH2rclJEi7NZxaPMey7jVSdR%2Fyi6MxSCeNx290UQA5BHwCh3RfUhqa3FCzF7jDxW3B%2Fl10zyZBJ1WlnSSUDhAjA47QeS2Nwtv4QxX4a5Mc%2FbL5bZ3QG0jfANxGsEkndZCz12A%2FPWflazkxmjY8dH4WWpPL36uQaidKpOoxUrB3Oco3v4JDfipM2fH3TCVEuhP8GjE2%2FO4Z6G8yzB4zRHGLsy8GAe5EMrq6yktnIUWyYLMe0hVbLgUAgENI1MSFHBY9b6FYyLuVf1LlkEhJuV5r1E7M1nudJP84Cb61lmDHPbnw8ulepiH25tBvB7As59yTelSgjX7MP0TOJoQqxJW1FNGgQ1Clcc4AKwFbdJToB5npjOGX1gqRaLX%2BK4ISLo5hsIEXJmteocLWfVGE5MlO5u19g5whdYJs%2FTh51JD&rb=x\n",
            "\n",
            "Kit 5 Pulseira Miband 5 Original Premium Diversas Cores M5 / 55.9\n",
            "https://produto.mercadolivre.com.br/MLB-1838310218-kit-5-pulseira-miband-5-original-premium-diversas-cores-m5-_JM#position=13&search_layout=stack&type=item&tracking_id=eaa1f449-fdad-49a7-8ff9-739d81f27a6f\n",
            "\n",
            "Kit 5 Pulseira Miband 7 Original Premium Diversas Cores M5 / 55.9\n",
            "https://produto.mercadolivre.com.br/MLB-2977156333-kit-5-pulseira-miband-7-original-premium-diversas-cores-m5-_JM?searchVariation=177180043103#searchVariation=177180043103&position=39&search_layout=stack&type=item&tracking_id=eaa1f449-fdad-49a7-8ff9-739d81f27a6f\n",
            "\n",
            "Kit Atacado 5 Pulseiras Para Xiaomi Mi Band 5/6/7 Premium / 55.9\n",
            "https://click1.mercadolivre.com.br/mclics/clicks/external/MLB/count?a=ARRyFJef0Vhw%2BwI3tfr6RLzdCnNi5u6dqEFqnHaWXjXLlmU2ePB5SDBfQBEZENjTYB70DLeSQSia%2BGzF1rZT4qDKc7pAa2Xa56VX3euJAYFbDUtG%2BXwqrNdN1S3dIFzwvl5HFRbXfRW5zDb4siMGwdHI6oPZyMAgR1ECSyJ4yRtBf4PVyXAQ0BeKl9g3XSX7fNJlkWrRt%2BY0%2B7fUVj00isnRMwnPZ2DxZkEsBneAZHEhmqdj8Q3XBnmtrx%2FsoepD0mzE4MvzOuIbslGUS%2FaFISEcZdBRIB22%2BlXgYkcQt2Pxw7ptGqKSQvXD0C6kq4OtYeG8UtoX6aVYdGW39xyIYR2H3OygnZt%2Fb%2BWTe%2FaZIwEOIckkZWrsDretepldH5CAoQay6XQB2HJuqpVBjH7BJ%2BZM2MYdpEVRTnK0QugyTgipBm%2BJlVj219sHtmWN0liWm%2BVSwYRZ4ZU0mgdaE2xuMd47xAufpqeZQUmcQChV5AXhr38hW87xgSywFPIGDbe1fsVFfv0OjXmEuMqh7EO%2BFKSUDUQspiE8W8d%2FMhSfXchLgEwyc%2FUtprZkgDkOEfBuP%2FwRxG5XYkfpxJ%2B247qLcSovtyrgSy5dTHcjBSid9ITsLLUy8Gi7n4YKwgQ6PVwO2ztIbClUa2YER7jnvKXY7rZXvEvyt0r%2BvijD%2Fpc2zikcgn%2FrZthFevDA8IXwH7eKLy8Jt8wzhWi6Ikm%2BsMiLEg%3D%3D&rb=x\n",
            "\n",
            "Kit Atacado 5 Pulseiras Para Xiaomi Mi Band 5/6/7 Premium / 55.9\n",
            "https://produto.mercadolivre.com.br/MLB-2906655011-kit-atacado-5-pulseiras-para-xiaomi-mi-band-567-premium-_JM#position=29&search_layout=stack&type=item&tracking_id=eaa1f449-fdad-49a7-8ff9-739d81f27a6f\n",
            "\n",
            "Kit 5 Pulseira Mi Band 5 E 5 Silicone super Resistente / 55.9\n",
            "https://produto.mercadolivre.com.br/MLB-1838313256-kit-5-pulseira-mi-band-5-e-5-siliconesuper-resistente-_JM#position=23&search_layout=stack&type=item&tracking_id=eaa1f449-fdad-49a7-8ff9-739d81f27a6f\n",
            "\n",
            "Kit 5 Pulseira Desportiva Xiaomi Mi Band 5 Premium Original / 59.9\n",
            "https://produto.mercadolivre.com.br/MLB-1838313250-kit-5-pulseira-desportiva-xiaomi-mi-band-5-premium-original-_JM#position=24&search_layout=stack&type=item&tracking_id=eaa1f449-fdad-49a7-8ff9-739d81f27a6f\n",
            "\n",
            "Kit 5 Pulseira Desportiva Xiaomi Mi Band 5 Premium Original / 59.9\n",
            "https://click1.mercadolivre.com.br/mclics/clicks/external/MLB/count?a=ZUMC0vPt4E2O914Vc72HGTZOs1Qt4amsqtURdpLsy9d6SwdYesYeZTVMGD7NFM2SxLJDqNGHpkzaaDe9nWKLjRaK0gJqQhKAhuGNo5kaU%2BGRqPUdO0xq05k19znmYyaa8xQyi%2F4UqJy0LgnM3foZ8YiHsAF0B8sQCJpvDn6zekcYObCrQbN13cMWjde5DeYpsXCwUbNg5OnZ%2FK2JXW4SyJxRSJk0wAnVNt%2Brrn5Yk5hq9QJXIaW4Nryys2vcHP3Xgt5%2BniFyTCqCBLMTfq57%2FRIKaz%2BTb0hHcgopx4K%2F0ot5ygAsLZPqALl7NwemCMTJ94kX0syWgiafRX2MRSaw%2BbksrXsZJfN9pMLdGDD6WItXOgNI0qcGjhw5fJ%2BPlBtvXeeP3SL1J9o2rVSyOXLhIWtjU%2F%2Fu1CjGe4c6IBnIdnPRFFdciCqBmDbUjLzdI5P3dOKteDZB%2FJ%2FahMZbAl0UHfusd4zkm3iPH20lEYq1Kj0f4ydNDV8JvNHlIYZ%2B5cG%2FEV3flagYBkFReOjn6ixO4rS7amJYINQ77%2BBNRYPwq9CAQ3C8tucCh%2BZNywBsXLSNVIvsaNwZl3mCSry8rP5n0nFcpsOnIQf9xRUj6gS7Vs0p06Ph%2F4SGSvOzjhg6RXluF9k32HMr%2FrIvVDLSQmSb6VcbPacPA8xY6uLoOlm1YipRH%2FSjcwGhNH9NF0yBa2sWyJF3ATUPMWurVdoOPk0uTkWvQZMn&rb=x\n",
            "\n",
            "Correia De Silicone Compatível Com Mi Band 6 5 Waterproof Du / 74.08\n",
            "https://produto.mercadolivre.com.br/MLB-2619881243-correia-de-silicone-compativel-com-mi-band-6-5-waterproof-du-_JM#position=18&search_layout=stack&type=item&tracking_id=eaa1f449-fdad-49a7-8ff9-739d81f27a6f\n",
            "\n",
            "Xiaomi Mi Smart Band 4 0.95\" caixa de  policarbonato  black, pulseira  black XMSH07HM / 143.99\n",
            "https://www.mercadolivre.com.br/xiaomi-mi-smart-band-4-095-caixa-de-policarbonato-black-pulseira-black-xmsh07hm/p/MLB14786768?pdp_filters=category:MLB135384#searchVariation=MLB14786768&position=4&search_layout=stack&type=product&tracking_id=eaa1f449-fdad-49a7-8ff9-739d81f27a6f\n",
            "\n",
            "Xiaomi Mi Smart Band 5 1.1\" caixa de  plástico pc  preta, pulseira  black XMSH10HM / 222.63\n",
            "https://www.mercadolivre.com.br/xiaomi-mi-smart-band-5-11-caixa-de-plastico-pc-preta-pulseira-black-xmsh10hm/p/MLB15963018?pdp_filters=category:MLB135384#searchVariation=MLB15963018&position=3&search_layout=stack&type=product&tracking_id=eaa1f449-fdad-49a7-8ff9-739d81f27a6f\n",
            "\n",
            "Smartwatch Amazfit Bands Band 5 1.1\" caixa de  policarbonato  preta, pulseira  midnight black A2005 / 222.63\n",
            "https://www.mercadolivre.com.br/smartwatch-amazfit-bands-band-5-11-caixa-de-policarbonato-preta-pulseira-midnight-black-a2005/p/MLB17232987?pdp_filters=category:MLB135384#searchVariation=MLB17232987&position=6&search_layout=stack&type=product&tracking_id=eaa1f449-fdad-49a7-8ff9-739d81f27a6f\n",
            "\n",
            "Xiaomi Mi Smart Band 5 1.56 Caixa De Policarbonato Black / 225.0\n",
            "https://produto.mercadolivre.com.br/MLB-3259925188-xiaomi-mi-smart-band-5-156-caixa-de-policarbonato-black-_JM#position=14&search_layout=stack&type=item&tracking_id=eaa1f449-fdad-49a7-8ff9-739d81f27a6f\n",
            "\n",
            "Smartband Mi Band 5  Versão Global Tela 1.56 Versão Global  / 225.0\n",
            "https://produto.mercadolivre.com.br/MLB-3259919100-smartband-mi-band-5-verso-global-tela-156-verso-global-_JM#position=48&search_layout=stack&type=item&tracking_id=eaa1f449-fdad-49a7-8ff9-739d81f27a6f\n",
            "\n",
            "Smartband Mi Band 5 Versão Global Tela 1.56 Original / 225.0\n",
            "https://click1.mercadolivre.com.br/mclics/clicks/external/MLB/count?a=uvHvvnlD%2FjtQteNs5uMaBgtMOihoZT7GTUVoJ2%2Bp5dAXMmYXnrAb22q3%2BR8qE2rmPDuQ%2F6t3vIcZibCKYEvmcjr8a6se8b82Dqe7xiOCHnBF9nD9Pfrt9EH7Sv6kpcglWu7AVzwlxlCGzh%2FNTz0iKhImw55q%2BXJMhibYuawb%2Fhd32rvZJPlbZbQ0bUGY1qHtGaCyQjlM9gWtrCYMCF1IPFyOjypzYAeCvc4Ex0JqqFc8cewPUx%2BoMXuPm57XtSgHyAqUKWaztYH6DlZpBJKf%2BiHaUCM1P0SQLRFcuWUjb%2Bp2zj0jHCQNtxatud57uig%2F83pdpah5B0HZEgurh7%2B4btSKBC48M1ou%2BeL8xWnkdurncn2p42RiO0qq2yTYq5Tk2eb9kIrGieUcidGvKOOkVtPFx1JdiIB3hkWUZSbKDZ0E3Eb5LVLObVSzJvFEgKHG%2BU8bs%2BLTvM6XeuKBFCt7Df9fe45CLYIFBH20FfB96MV%2BKXNUNzvUTrTrvWb6ILiYXXv1wXmxocQjqTSs47bLPBJhEZ0rUXzz60w51WKGKlAAwUdpnuDc6e%2FNJYL4dPTKp0TMZbTkgHND9tcX0nVXgesl19rFGnptNaNu4xRvepj%2B1ZMYrrN9xvbQHTRRHajj%2BjECGnKbVN4uoulnvioTfg1AT0lwtJS8HJuDQvw00gvON3HFAhRcBulkK%2FIyzrqdr3WZl%2F1Fams%2BUtI%3D&rb=x\n",
            "\n",
            "Xiaomi Mi Smart Band 6 1.56\" caixa de  plástico pc  preta, pulseira  black XMSH15HM / 236.5\n",
            "https://www.mercadolivre.com.br/xiaomi-mi-smart-band-6-156-caixa-de-plastico-pc-preta-pulseira-black-xmsh15hm/p/MLB17796174?pdp_filters=category:MLB135384#searchVariation=MLB17796174&position=5&search_layout=stack&type=product&tracking_id=eaa1f449-fdad-49a7-8ff9-739d81f27a6f\n",
            "\n",
            "Xiaomi Mi Smart Band 7 1.62\" caixa  preta, pulseira  preta / 262.99\n",
            "https://www.mercadolivre.com.br/xiaomi-mi-smart-band-7-162-caixa-preta-pulseira-preta/p/MLB19174175?pdp_filters=category:MLB135384#searchVariation=MLB19174175&position=8&search_layout=stack&type=product&tracking_id=eaa1f449-fdad-49a7-8ff9-739d81f27a6f\n",
            "\n",
            "Smartwatch Relógio Amazfit Bip 3 A2172 Azul / 290.0\n",
            "https://www.mercadolivre.com.br/smartwatch-relogio-amazfit-bip-3-a2172-azul/p/MLB21151387?pdp_filters=category:MLB135384#searchVariation=MLB21151387&position=7&search_layout=stack&type=product&tracking_id=eaa1f449-fdad-49a7-8ff9-739d81f27a6f\n",
            "\n",
            "Relógio Smartband Xiaomi Mi Band 5 C/ Funções Inteligentes / 399.99\n",
            "https://produto.mercadolivre.com.br/MLB-2114837969-relogio-smartband-xiaomi-mi-band-5-c-funcoes-inteligentes-_JM#position=52&search_layout=stack&type=item&tracking_id=eaa1f449-fdad-49a7-8ff9-739d81f27a6f\n",
            "\n",
            "Relogio Inteligente Miband7 Envio Imediato Original Lacrado / 1900.0\n",
            "https://produto.mercadolivre.com.br/MLB-3325017434-relogio-inteligente-miband7-envio-imediato-original-lacrado-_JM?searchVariation=177234562809#searchVariation=177234562809&position=54&search_layout=stack&type=item&tracking_id=eaa1f449-fdad-49a7-8ff9-739d81f27a6f\n",
            "\n",
            "Relogio Inteligente Miband 7 Envio Imediato Original Lacrado / 1900.0\n",
            "https://produto.mercadolivre.com.br/MLB-3261157123-relogio-inteligente-miband-7-envio-imediato-original-lacrado-_JM?searchVariation=177226765469#searchVariation=177226765469&position=16&search_layout=stack&type=item&tracking_id=eaa1f449-fdad-49a7-8ff9-739d81f27a6f\n",
            "\n"
          ]
        }
      ]
    }
  ]
}